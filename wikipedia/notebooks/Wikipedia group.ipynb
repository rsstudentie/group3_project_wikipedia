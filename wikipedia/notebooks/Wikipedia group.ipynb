{
 "cells": [
  {
   "cell_type": "code",
   "execution_count": 4,
   "outputs": [],
   "source": [
    "import pandas as pd\n",
    "from sqlalchemy import create_engine\n",
    "import matplotlib.pyplot as plt\n",
    "import sqlite3\n",
    "from sqlalchemy import create_engine, MetaData\n",
    "import loadCSVfunction\n",
    "import transpose_csv"
   ],
   "metadata": {
    "collapsed": false,
    "ExecuteTime": {
     "end_time": "2024-03-17T12:18:15.680351600Z",
     "start_time": "2024-03-17T12:18:15.656925900Z"
    }
   },
   "id": "a512212bf0f18650"
  },
  {
   "cell_type": "code",
   "execution_count": 5,
   "outputs": [],
   "source": [
    "train_1 = \"../data/train_1.csv\"\n",
    "train_2 = \"../data/train_2.csv\"\n",
    "key_1 = \"../data/key_1.csv\"\n",
    "key_2 = \"../data/key_2.csv\"\n",
    "\n",
    "train_1_transposed = \"../data/train_1_transposed.csv\"\n",
    "train_2_transposed = \"../data/train_2_transposed.csv\"\n",
    "key_1_transposed = \"../data/key_1_transposed.csv\"\n",
    "key_2_transposed = \"../data/key_2_transposed.csv\"\n",
    "\n",
    "#transpose_csv.transpose_csv(input_csv_path= train_1, output_csv_path=train_1_transposed, encoding= 'utf-8')\n",
    "# transpose_csv.transpose_csv(input_csv_path= train_2, output_csv_path=train_2_transposed, encoding= 'utf-8')\n",
    "# transpose_csv.transpose_csv(input_csv_path= key_1, output_csv_path= key_1_transposed, encoding= 'utf-8')\n",
    "# transpose_csv.transpose_csv(input_csv_path= key_2, output_csv_path= key_2_transposed, encoding= 'utf-8')\n"
   ],
   "metadata": {
    "collapsed": false,
    "ExecuteTime": {
     "end_time": "2024-03-17T12:18:16.074579200Z",
     "start_time": "2024-03-17T12:18:16.065295300Z"
    }
   },
   "id": "c1c9fbb96586c34b"
  },
  {
   "cell_type": "code",
   "execution_count": 7,
   "outputs": [
    {
     "data": {
      "text/plain": "         Page  2NE1_zh.wikipedia.org_all-access_spider  \\\n0  2015-07-01                                       18   \n1  2015-07-02                                       11   \n2  2015-07-03                                        5   \n3  2015-07-04                                       13   \n4  2015-07-05                                       14   \n\n   2PM_zh.wikipedia.org_all-access_spider  \\\n0                                      11   \n1                                      14   \n2                                      15   \n3                                      18   \n4                                      11   \n\n   3C_zh.wikipedia.org_all-access_spider  \\\n0                                      1   \n1                                      0   \n2                                      1   \n3                                      1   \n4                                      0   \n\n   4minute_zh.wikipedia.org_all-access_spider  \\\n0                                          35   \n1                                          13   \n2                                          10   \n3                                          94   \n4                                           4   \n\n   52_Hz_I_Love_You_zh.wikipedia.org_all-access_spider  \\\n0                                                NaN     \n1                                                NaN     \n2                                                NaN     \n3                                                NaN     \n4                                                NaN     \n\n   5566_zh.wikipedia.org_all-access_spider  \\\n0                                       12   \n1                                        7   \n2                                        4   \n3                                        5   \n4                                       20   \n\n   91Days_zh.wikipedia.org_all-access_spider  \\\n0                                        NaN   \n1                                        NaN   \n2                                        NaN   \n3                                        NaN   \n4                                        NaN   \n\n   A'N'D_zh.wikipedia.org_all-access_spider  \\\n0                                       118   \n1                                        26   \n2                                        30   \n3                                        24   \n4                                        29   \n\n   AKB48_zh.wikipedia.org_all-access_spider  ...  \\\n0                                         5  ...   \n1                                        23  ...   \n2                                        14  ...   \n3                                        12  ...   \n4                                         9  ...   \n\n   Drake_(músico)_es.wikipedia.org_all-access_spider  \\\n0                                                NaN   \n1                                                NaN   \n2                                                NaN   \n3                                                NaN   \n4                                                NaN   \n\n   Skam_(serie_de_televisión)_es.wikipedia.org_all-access_spider  \\\n0                                                NaN               \n1                                                NaN               \n2                                                NaN               \n3                                                NaN               \n4                                                NaN               \n\n   Legión_(serie_de_televisión)_es.wikipedia.org_all-access_spider  \\\n0                                                NaN                 \n1                                                NaN                 \n2                                                NaN                 \n3                                                NaN                 \n4                                                NaN                 \n\n   Doble_tentación_es.wikipedia.org_all-access_spider  \\\n0                                                NaN    \n1                                                NaN    \n2                                                NaN    \n3                                                NaN    \n4                                                NaN    \n\n   Mi_adorable_maldición_es.wikipedia.org_all-access_spider  \\\n0                                                NaN          \n1                                                NaN          \n2                                                NaN          \n3                                                NaN          \n4                                                NaN          \n\n   Underworld_(serie_de_películas)_es.wikipedia.org_all-access_spider  \\\n0                                                NaN                    \n1                                                NaN                    \n2                                                NaN                    \n3                                                NaN                    \n4                                                NaN                    \n\n   Resident_Evil:_Capítulo_Final_es.wikipedia.org_all-access_spider  \\\n0                                                NaN                  \n1                                                NaN                  \n2                                                NaN                  \n3                                                NaN                  \n4                                                NaN                  \n\n   Enamorándome_de_Ramón_es.wikipedia.org_all-access_spider  \\\n0                                                NaN          \n1                                                NaN          \n2                                                NaN          \n3                                                NaN          \n4                                                NaN          \n\n   Hasta_el_último_hombre_es.wikipedia.org_all-access_spider  \\\n0                                                NaN           \n1                                                NaN           \n2                                                NaN           \n3                                                NaN           \n4                                                NaN           \n\n   Francisco_el_matemático_(serie_de_televisión_de_2017)_es.wikipedia.org_all-access_spider  \n0                                                NaN                                         \n1                                                NaN                                         \n2                                                NaN                                         \n3                                                NaN                                         \n4                                                NaN                                         \n\n[5 rows x 145064 columns]",
      "text/html": "<div>\n<style scoped>\n    .dataframe tbody tr th:only-of-type {\n        vertical-align: middle;\n    }\n\n    .dataframe tbody tr th {\n        vertical-align: top;\n    }\n\n    .dataframe thead th {\n        text-align: right;\n    }\n</style>\n<table border=\"1\" class=\"dataframe\">\n  <thead>\n    <tr style=\"text-align: right;\">\n      <th></th>\n      <th>Page</th>\n      <th>2NE1_zh.wikipedia.org_all-access_spider</th>\n      <th>2PM_zh.wikipedia.org_all-access_spider</th>\n      <th>3C_zh.wikipedia.org_all-access_spider</th>\n      <th>4minute_zh.wikipedia.org_all-access_spider</th>\n      <th>52_Hz_I_Love_You_zh.wikipedia.org_all-access_spider</th>\n      <th>5566_zh.wikipedia.org_all-access_spider</th>\n      <th>91Days_zh.wikipedia.org_all-access_spider</th>\n      <th>A'N'D_zh.wikipedia.org_all-access_spider</th>\n      <th>AKB48_zh.wikipedia.org_all-access_spider</th>\n      <th>...</th>\n      <th>Drake_(músico)_es.wikipedia.org_all-access_spider</th>\n      <th>Skam_(serie_de_televisión)_es.wikipedia.org_all-access_spider</th>\n      <th>Legión_(serie_de_televisión)_es.wikipedia.org_all-access_spider</th>\n      <th>Doble_tentación_es.wikipedia.org_all-access_spider</th>\n      <th>Mi_adorable_maldición_es.wikipedia.org_all-access_spider</th>\n      <th>Underworld_(serie_de_películas)_es.wikipedia.org_all-access_spider</th>\n      <th>Resident_Evil:_Capítulo_Final_es.wikipedia.org_all-access_spider</th>\n      <th>Enamorándome_de_Ramón_es.wikipedia.org_all-access_spider</th>\n      <th>Hasta_el_último_hombre_es.wikipedia.org_all-access_spider</th>\n      <th>Francisco_el_matemático_(serie_de_televisión_de_2017)_es.wikipedia.org_all-access_spider</th>\n    </tr>\n  </thead>\n  <tbody>\n    <tr>\n      <th>0</th>\n      <td>2015-07-01</td>\n      <td>18</td>\n      <td>11</td>\n      <td>1</td>\n      <td>35</td>\n      <td>NaN</td>\n      <td>12</td>\n      <td>NaN</td>\n      <td>118</td>\n      <td>5</td>\n      <td>...</td>\n      <td>NaN</td>\n      <td>NaN</td>\n      <td>NaN</td>\n      <td>NaN</td>\n      <td>NaN</td>\n      <td>NaN</td>\n      <td>NaN</td>\n      <td>NaN</td>\n      <td>NaN</td>\n      <td>NaN</td>\n    </tr>\n    <tr>\n      <th>1</th>\n      <td>2015-07-02</td>\n      <td>11</td>\n      <td>14</td>\n      <td>0</td>\n      <td>13</td>\n      <td>NaN</td>\n      <td>7</td>\n      <td>NaN</td>\n      <td>26</td>\n      <td>23</td>\n      <td>...</td>\n      <td>NaN</td>\n      <td>NaN</td>\n      <td>NaN</td>\n      <td>NaN</td>\n      <td>NaN</td>\n      <td>NaN</td>\n      <td>NaN</td>\n      <td>NaN</td>\n      <td>NaN</td>\n      <td>NaN</td>\n    </tr>\n    <tr>\n      <th>2</th>\n      <td>2015-07-03</td>\n      <td>5</td>\n      <td>15</td>\n      <td>1</td>\n      <td>10</td>\n      <td>NaN</td>\n      <td>4</td>\n      <td>NaN</td>\n      <td>30</td>\n      <td>14</td>\n      <td>...</td>\n      <td>NaN</td>\n      <td>NaN</td>\n      <td>NaN</td>\n      <td>NaN</td>\n      <td>NaN</td>\n      <td>NaN</td>\n      <td>NaN</td>\n      <td>NaN</td>\n      <td>NaN</td>\n      <td>NaN</td>\n    </tr>\n    <tr>\n      <th>3</th>\n      <td>2015-07-04</td>\n      <td>13</td>\n      <td>18</td>\n      <td>1</td>\n      <td>94</td>\n      <td>NaN</td>\n      <td>5</td>\n      <td>NaN</td>\n      <td>24</td>\n      <td>12</td>\n      <td>...</td>\n      <td>NaN</td>\n      <td>NaN</td>\n      <td>NaN</td>\n      <td>NaN</td>\n      <td>NaN</td>\n      <td>NaN</td>\n      <td>NaN</td>\n      <td>NaN</td>\n      <td>NaN</td>\n      <td>NaN</td>\n    </tr>\n    <tr>\n      <th>4</th>\n      <td>2015-07-05</td>\n      <td>14</td>\n      <td>11</td>\n      <td>0</td>\n      <td>4</td>\n      <td>NaN</td>\n      <td>20</td>\n      <td>NaN</td>\n      <td>29</td>\n      <td>9</td>\n      <td>...</td>\n      <td>NaN</td>\n      <td>NaN</td>\n      <td>NaN</td>\n      <td>NaN</td>\n      <td>NaN</td>\n      <td>NaN</td>\n      <td>NaN</td>\n      <td>NaN</td>\n      <td>NaN</td>\n      <td>NaN</td>\n    </tr>\n  </tbody>\n</table>\n<p>5 rows × 145064 columns</p>\n</div>"
     },
     "execution_count": 7,
     "metadata": {},
     "output_type": "execute_result"
    }
   ],
   "source": [
    "train_1_transposed_df = pd.read_csv(train_1_transposed)\n",
    "train_1_transposed_df.head()"
   ],
   "metadata": {
    "collapsed": false,
    "ExecuteTime": {
     "end_time": "2024-03-17T12:31:45.217382500Z",
     "start_time": "2024-03-17T12:23:38.207978100Z"
    }
   },
   "id": "2efb728142f0bc44"
  },
  {
   "cell_type": "code",
   "execution_count": 38,
   "id": "initial_id",
   "metadata": {
    "collapsed": true,
    "ExecuteTime": {
     "end_time": "2024-03-17T11:43:01.593486400Z",
     "start_time": "2024-03-17T11:43:01.587968500Z"
    }
   },
   "outputs": [],
   "source": [
    "engine = create_engine('sqlite:///time_series_forecasting_test.db', echo=True)"
   ]
  },
  {
   "cell_type": "code",
   "execution_count": 39,
   "outputs": [],
   "source": [
    "metadata = MetaData(bind=engine)"
   ],
   "metadata": {
    "collapsed": false,
    "ExecuteTime": {
     "end_time": "2024-03-17T11:43:01.760039800Z",
     "start_time": "2024-03-17T11:43:01.754497200Z"
    }
   },
   "id": "641f4f74789aed6"
  },
  {
   "cell_type": "code",
   "execution_count": 6,
   "outputs": [],
   "source": [
    "schema = \"\"\"\n",
    "CREATE TABLE IF NOT EXISTS train_1 (\n",
    "    page TEXT PRIMARY KEY,\n",
    "    <define columns for each date>\n",
    ");\n",
    "CREATE TABLE IF NOT EXISTS train_2 (\n",
    "    page TEXT PRIMARY KEY,\n",
    "    <define columns for each date>\n",
    ");\n",
    "CREATE TABLE IF NOT EXISTS key_1 (\n",
    "    page TEXT PRIMARY KEY,\n",
    "    Id INTEGER\n",
    ");\n",
    "CREATE TABLE IF NOT EXISTS key_2 (\n",
    "    page TEXT PRIMARY KEY,\n",
    "    Id INTEGER\n",
    ");\n",
    "\"\"\"\n"
   ],
   "metadata": {
    "collapsed": false,
    "ExecuteTime": {
     "end_time": "2024-03-16T15:59:55.674609200Z",
     "start_time": "2024-03-16T15:59:55.654718600Z"
    }
   },
   "id": "8f8c161439d00cc9"
  },
  {
   "cell_type": "code",
   "execution_count": 7,
   "outputs": [
    {
     "name": "stdout",
     "output_type": "stream",
     "text": [
      "2024-03-16 16:59:55,673 INFO sqlalchemy.engine.Engine BEGIN (implicit)\n",
      "2024-03-16 16:59:55,674 INFO sqlalchemy.engine.Engine COMMIT\n"
     ]
    }
   ],
   "source": [
    "metadata.create_all(engine)"
   ],
   "metadata": {
    "collapsed": false,
    "ExecuteTime": {
     "end_time": "2024-03-16T15:59:55.682679100Z",
     "start_time": "2024-03-16T15:59:55.667601Z"
    }
   },
   "id": "bb4936f5e86f5c5a"
  },
  {
   "cell_type": "code",
   "execution_count": 8,
   "outputs": [],
   "source": [
    "train_1 = \"../data/train_1.csv.zip/train_1.csv\"\n",
    "train_2 = \"../data/train_2.csv.zip/train_2.csv\"\n",
    "key_1 = \"../data/key_1.csv.zip/key_1.csv\"\n",
    "key_2 = \"../data/key_2.csv.zip/key_2.csv\""
   ],
   "metadata": {
    "collapsed": false,
    "ExecuteTime": {
     "end_time": "2024-03-16T15:59:55.688934500Z",
     "start_time": "2024-03-16T15:59:55.680991100Z"
    }
   },
   "id": "970afbb20a6c88da"
  },
  {
   "cell_type": "code",
   "execution_count": 9,
   "outputs": [],
   "source": [
    "csv_list_1 = [train_1, key_1]\n",
    "csv_list_2 = [train_2, key_2]"
   ],
   "metadata": {
    "collapsed": false,
    "ExecuteTime": {
     "end_time": "2024-03-16T15:59:55.689937400Z",
     "start_time": "2024-03-16T15:59:55.685758400Z"
    }
   },
   "id": "d7f25ed92745cbb1"
  },
  {
   "cell_type": "code",
   "execution_count": 13,
   "outputs": [
    {
     "name": "stdout",
     "output_type": "stream",
     "text": [
      "Unexpected exception formatting exception. Falling back to standard exception\n"
     ]
    },
    {
     "name": "stderr",
     "output_type": "stream",
     "text": [
      "Traceback (most recent call last):\n",
      "  File \"C:\\ProgramData\\anaconda3\\Lib\\site-packages\\IPython\\core\\interactiveshell.py\", line 3526, in run_code\n",
      "    exec(code_obj, self.user_global_ns, self.user_ns)\n",
      "  File \"C:\\Users\\albyd\\AppData\\Local\\Temp\\ipykernel_186056\\1195152504.py\", line 1, in <module>\n",
      "    loadCSVfunction.load_csv_to_table(engine, train_1, \"train_1\", skip_header=True)\n",
      "  File \"C:\\Users\\albyd\\wikipedia_grp_project\\group3_project_wikipedia\\notebooks\\loadCSVfunction.py\", line 13, in load_csv_to_table\n",
      "    with open(csv_file_path, newline='') as csvfile:\n",
      "         ^^^^^^^^^^^^^^^^^^^^^^^^^^^^^^^\n",
      "FileNotFoundError: [Errno 2] No such file or directory: '../data/train_1.csv.zip/train_1.csv'\n",
      "\n",
      "During handling of the above exception, another exception occurred:\n",
      "\n",
      "Traceback (most recent call last):\n",
      "  File \"C:\\ProgramData\\anaconda3\\Lib\\site-packages\\IPython\\core\\interactiveshell.py\", line 2120, in showtraceback\n",
      "    stb = self.InteractiveTB.structured_traceback(\n",
      "          ^^^^^^^^^^^^^^^^^^^^^^^^^^^^^^^^^^^^^^^^\n",
      "  File \"C:\\ProgramData\\anaconda3\\Lib\\site-packages\\IPython\\core\\ultratb.py\", line 1435, in structured_traceback\n",
      "    return FormattedTB.structured_traceback(\n",
      "           ^^^^^^^^^^^^^^^^^^^^^^^^^^^^^^^^^\n",
      "  File \"C:\\ProgramData\\anaconda3\\Lib\\site-packages\\IPython\\core\\ultratb.py\", line 1326, in structured_traceback\n",
      "    return VerboseTB.structured_traceback(\n",
      "           ^^^^^^^^^^^^^^^^^^^^^^^^^^^^^^^\n",
      "  File \"C:\\ProgramData\\anaconda3\\Lib\\site-packages\\IPython\\core\\ultratb.py\", line 1173, in structured_traceback\n",
      "    formatted_exception = self.format_exception_as_a_whole(etype, evalue, etb, number_of_lines_of_context,\n",
      "                          ^^^^^^^^^^^^^^^^^^^^^^^^^^^^^^^^^^^^^^^^^^^^^^^^^^^^^^^^^^^^^^^^^^^^^^^^^^^^^^^^\n",
      "  File \"C:\\ProgramData\\anaconda3\\Lib\\site-packages\\IPython\\core\\ultratb.py\", line 1088, in format_exception_as_a_whole\n",
      "    frames.append(self.format_record(record))\n",
      "                  ^^^^^^^^^^^^^^^^^^^^^^^^^^\n",
      "  File \"C:\\ProgramData\\anaconda3\\Lib\\site-packages\\IPython\\core\\ultratb.py\", line 970, in format_record\n",
      "    frame_info.lines, Colors, self.has_colors, lvals\n",
      "    ^^^^^^^^^^^^^^^^\n",
      "  File \"C:\\ProgramData\\anaconda3\\Lib\\site-packages\\IPython\\core\\ultratb.py\", line 792, in lines\n",
      "    return self._sd.lines\n",
      "           ^^^^^^^^^^^^^^\n",
      "  File \"C:\\ProgramData\\anaconda3\\Lib\\site-packages\\stack_data\\utils.py\", line 145, in cached_property_wrapper\n",
      "    value = obj.__dict__[self.func.__name__] = self.func(obj)\n",
      "                                               ^^^^^^^^^^^^^^\n",
      "  File \"C:\\ProgramData\\anaconda3\\Lib\\site-packages\\stack_data\\core.py\", line 698, in lines\n",
      "    pieces = self.included_pieces\n",
      "             ^^^^^^^^^^^^^^^^^^^^\n",
      "  File \"C:\\ProgramData\\anaconda3\\Lib\\site-packages\\stack_data\\utils.py\", line 145, in cached_property_wrapper\n",
      "    value = obj.__dict__[self.func.__name__] = self.func(obj)\n",
      "                                               ^^^^^^^^^^^^^^\n",
      "  File \"C:\\ProgramData\\anaconda3\\Lib\\site-packages\\stack_data\\core.py\", line 649, in included_pieces\n",
      "    pos = scope_pieces.index(self.executing_piece)\n",
      "                             ^^^^^^^^^^^^^^^^^^^^\n",
      "  File \"C:\\ProgramData\\anaconda3\\Lib\\site-packages\\stack_data\\utils.py\", line 145, in cached_property_wrapper\n",
      "    value = obj.__dict__[self.func.__name__] = self.func(obj)\n",
      "                                               ^^^^^^^^^^^^^^\n",
      "  File \"C:\\ProgramData\\anaconda3\\Lib\\site-packages\\stack_data\\core.py\", line 628, in executing_piece\n",
      "    return only(\n",
      "           ^^^^^\n",
      "  File \"C:\\ProgramData\\anaconda3\\Lib\\site-packages\\executing\\executing.py\", line 164, in only\n",
      "    raise NotOneValueFound('Expected one value, found 0')\n",
      "executing.executing.NotOneValueFound: Expected one value, found 0\n"
     ]
    }
   ],
   "source": [
    "loadCSVfunction.load_csv_to_table(engine, train_1, \"train_1\", skip_header=True)"
   ],
   "metadata": {
    "collapsed": false,
    "ExecuteTime": {
     "end_time": "2024-03-16T16:03:34.361951300Z",
     "start_time": "2024-03-16T16:03:34.332126700Z"
    }
   },
   "id": "fd38e9325a750207"
  },
  {
   "cell_type": "code",
   "execution_count": null,
   "outputs": [],
   "source": [
    "for file in csv_list_1:\n",
    "    file_df = pd.read_sql('SELECT * FROM file LIMIT 200', engine)"
   ],
   "metadata": {
    "collapsed": false,
    "ExecuteTime": {
     "start_time": "2024-03-16T15:59:55.710372300Z"
    }
   },
   "id": "90c9ae9905cd84e0"
  }
 ],
 "metadata": {
  "kernelspec": {
   "display_name": "Python 3",
   "language": "python",
   "name": "python3"
  },
  "language_info": {
   "codemirror_mode": {
    "name": "ipython",
    "version": 2
   },
   "file_extension": ".py",
   "mimetype": "text/x-python",
   "name": "python",
   "nbconvert_exporter": "python",
   "pygments_lexer": "ipython2",
   "version": "2.7.6"
  }
 },
 "nbformat": 4,
 "nbformat_minor": 5
}
