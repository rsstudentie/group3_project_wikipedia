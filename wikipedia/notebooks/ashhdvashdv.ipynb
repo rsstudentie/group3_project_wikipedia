{
 "cells": [
  {
   "cell_type": "code",
   "execution_count": 9,
   "id": "initial_id",
   "metadata": {
    "collapsed": true,
    "ExecuteTime": {
     "end_time": "2024-03-20T21:22:43.331407500Z",
     "start_time": "2024-03-20T21:22:43.327823Z"
    }
   },
   "outputs": [],
   "source": [
    "from sqlalchemy import create_engine\n",
    "import pandas as pd\n",
    "import matplotlib.pyplot as plt\n",
    "import matplotlib.dates as mdates\n",
    "from matplotlib import rcParams\n",
    "import numpy as np\n",
    "# import seaborn as sns\n",
    "from sklearn.ensemble import RandomForestRegressor\n",
    "from sklearn.metrics import mean_absolute_error, mean_squared_error, r2_score\n",
    "from sqlalchemy import text\n",
    "from wikipedia.src.sqllite.sqllite_engine import SqlLiteEngine\n",
    "\n",
    "\n",
    "def random_forest():\n",
    "    # Initiating engine\n",
    "\n",
    "    session = SqlLiteEngine().get_session()\n",
    "    with session as session:\n",
    "        result = session.execute(text('SELECT * FROM page_visits'))\n",
    "        df = pd.DataFrame(result)\n",
    "\n",
    "    sample_pages = df['Page'].drop_duplicates().sample(n=5, random_state=1201).values\n",
    "\n",
    "    rcParams['font.family'] = \"Arial Unicode MS\"\n",
    "\n",
    "    df['Date'] = pd.to_datetime(df['Date'])\n",
    "\n",
    "    plt.figure(figsize=(15, 10))\n",
    "\n",
    "    # Set the locator for the x-axis to pick fewer date ticks (e.g., monthly)\n",
    "    locator = mdates.MonthLocator()  # Locator can be adjusted to YearLocator, WeekLocator, etc.\n",
    "    formatter = mdates.DateFormatter('%Y-%m')  # Adjust the format as needed\n",
    "\n",
    "    for page in sample_pages:\n",
    "        page_data = df[df['Page'] == page]\n",
    "        plt.plot(page_data['Date'], page_data['Visits'], label=page)\n",
    "\n",
    "    plt.title('Web Traffic Time Series for Sample Articles')\n",
    "    plt.xlabel('Date')\n",
    "    plt.ylabel('Visits')\n",
    "    plt.legend()\n",
    "\n",
    "    # Set major and minor locators and formatters\n",
    "    ax = plt.gca()\n",
    "    ax.xaxis.set_major_locator(locator)\n",
    "    ax.xaxis.set_major_formatter(formatter)\n",
    "\n",
    "    plt.xticks(rotation=45)\n",
    "    plt.tight_layout()  # Make sure labels and titles don't overlap\n",
    "    plt.show()\n",
    "\n",
    "    df.sort_values(by=['Page', 'Date'], inplace=True)\n",
    "\n",
    "    for i in range(1, 8):  # 7 day lag\n",
    "        df[f'lag_{i}'] = df.groupby('Page')['Visits'].transform(lambda x: x.shift(i))\n",
    "\n",
    "    df_clean = df.dropna(subset=[f'lag_{i}' for i in range(1, 8)])\n",
    "    df_clean = df_clean.copy()\n",
    "    df_clean['Date'] = pd.to_datetime(df_clean['Date'])\n",
    "\n",
    "    split_date = df_clean['Date'].max() - pd.Timedelta(days=30)\n",
    "\n",
    "    # Splitting the dataset\n",
    "    train = df_clean[df_clean['Date'] <= split_date]\n",
    "    test = df_clean[df_clean['Date'] > split_date]\n",
    "\n",
    "    # Preparing features (X) and target (y) for both training and testing sets\n",
    "    X_train = train.drop(['Page', 'Date', 'Visits'], axis=1)\n",
    "    y_train = train['Visits']\n",
    "    X_test = test.drop(['Page', 'Date', 'Visits'], axis=1)\n",
    "    y_test = test['Visits']\n",
    "\n",
    "    rfr = RandomForestRegressor(n_estimators=100, random_state=1201)\n",
    "    rfr.fit(X_train, y_train)\n",
    "\n",
    "    predictions = rfr.predict(X_test)\n",
    "\n",
    "    mae = mean_absolute_error(y_test, predictions)\n",
    "    rmse = mean_squared_error(y_test, predictions, squared=False)\n",
    "    r_squared = r2_score(y_test, predictions)\n",
    "    mape = np.mean(np.abs((y_test - predictions) / y_test)) * 100\n",
    "\n",
    "    print(f'Mean Absolute Error: {mae}')\n",
    "    print(f'Root Mean Squared Error: {rmse}')\n",
    "    print(f'R-squared: {r_squared}')\n",
    "    print(f'Mean Absolute Percentage Error (MAPE): {mape}%')"
   ]
  },
  {
   "cell_type": "code",
   "execution_count": 10,
   "outputs": [
    {
     "ename": "OperationalError",
     "evalue": "(sqlite3.OperationalError) unable to open database file\n(Background on this error at: https://sqlalche.me/e/14/e3q8)",
     "output_type": "error",
     "traceback": [
      "\u001B[1;31m---------------------------------------------------------------------------\u001B[0m",
      "\u001B[1;31mOperationalError\u001B[0m                          Traceback (most recent call last)",
      "File \u001B[1;32m~\\anaconda3\\Lib\\site-packages\\sqlalchemy\\engine\\base.py:3280\u001B[0m, in \u001B[0;36mEngine._wrap_pool_connect\u001B[1;34m(self, fn, connection)\u001B[0m\n\u001B[0;32m   3279\u001B[0m \u001B[38;5;28;01mtry\u001B[39;00m:\n\u001B[1;32m-> 3280\u001B[0m     \u001B[38;5;28;01mreturn\u001B[39;00m fn()\n\u001B[0;32m   3281\u001B[0m \u001B[38;5;28;01mexcept\u001B[39;00m dialect\u001B[38;5;241m.\u001B[39mdbapi\u001B[38;5;241m.\u001B[39mError \u001B[38;5;28;01mas\u001B[39;00m e:\n",
      "File \u001B[1;32m~\\anaconda3\\Lib\\site-packages\\sqlalchemy\\pool\\base.py:310\u001B[0m, in \u001B[0;36mPool.connect\u001B[1;34m(self)\u001B[0m\n\u001B[0;32m    303\u001B[0m \u001B[38;5;250m\u001B[39m\u001B[38;5;124;03m\"\"\"Return a DBAPI connection from the pool.\u001B[39;00m\n\u001B[0;32m    304\u001B[0m \n\u001B[0;32m    305\u001B[0m \u001B[38;5;124;03mThe connection is instrumented such that when its\u001B[39;00m\n\u001B[1;32m   (...)\u001B[0m\n\u001B[0;32m    308\u001B[0m \n\u001B[0;32m    309\u001B[0m \u001B[38;5;124;03m\"\"\"\u001B[39;00m\n\u001B[1;32m--> 310\u001B[0m \u001B[38;5;28;01mreturn\u001B[39;00m _ConnectionFairy\u001B[38;5;241m.\u001B[39m_checkout(\u001B[38;5;28mself\u001B[39m)\n",
      "File \u001B[1;32m~\\anaconda3\\Lib\\site-packages\\sqlalchemy\\pool\\base.py:868\u001B[0m, in \u001B[0;36m_ConnectionFairy._checkout\u001B[1;34m(cls, pool, threadconns, fairy)\u001B[0m\n\u001B[0;32m    867\u001B[0m \u001B[38;5;28;01mif\u001B[39;00m \u001B[38;5;129;01mnot\u001B[39;00m fairy:\n\u001B[1;32m--> 868\u001B[0m     fairy \u001B[38;5;241m=\u001B[39m _ConnectionRecord\u001B[38;5;241m.\u001B[39mcheckout(pool)\n\u001B[0;32m    870\u001B[0m     fairy\u001B[38;5;241m.\u001B[39m_pool \u001B[38;5;241m=\u001B[39m pool\n",
      "File \u001B[1;32m~\\anaconda3\\Lib\\site-packages\\sqlalchemy\\pool\\base.py:476\u001B[0m, in \u001B[0;36m_ConnectionRecord.checkout\u001B[1;34m(cls, pool)\u001B[0m\n\u001B[0;32m    474\u001B[0m \u001B[38;5;129m@classmethod\u001B[39m\n\u001B[0;32m    475\u001B[0m \u001B[38;5;28;01mdef\u001B[39;00m \u001B[38;5;21mcheckout\u001B[39m(\u001B[38;5;28mcls\u001B[39m, pool):\n\u001B[1;32m--> 476\u001B[0m     rec \u001B[38;5;241m=\u001B[39m pool\u001B[38;5;241m.\u001B[39m_do_get()\n\u001B[0;32m    477\u001B[0m     \u001B[38;5;28;01mtry\u001B[39;00m:\n",
      "File \u001B[1;32m~\\anaconda3\\Lib\\site-packages\\sqlalchemy\\pool\\impl.py:256\u001B[0m, in \u001B[0;36mNullPool._do_get\u001B[1;34m(self)\u001B[0m\n\u001B[0;32m    255\u001B[0m \u001B[38;5;28;01mdef\u001B[39;00m \u001B[38;5;21m_do_get\u001B[39m(\u001B[38;5;28mself\u001B[39m):\n\u001B[1;32m--> 256\u001B[0m     \u001B[38;5;28;01mreturn\u001B[39;00m \u001B[38;5;28mself\u001B[39m\u001B[38;5;241m.\u001B[39m_create_connection()\n",
      "File \u001B[1;32m~\\anaconda3\\Lib\\site-packages\\sqlalchemy\\pool\\base.py:256\u001B[0m, in \u001B[0;36mPool._create_connection\u001B[1;34m(self)\u001B[0m\n\u001B[0;32m    254\u001B[0m \u001B[38;5;250m\u001B[39m\u001B[38;5;124;03m\"\"\"Called by subclasses to create a new ConnectionRecord.\"\"\"\u001B[39;00m\n\u001B[1;32m--> 256\u001B[0m \u001B[38;5;28;01mreturn\u001B[39;00m _ConnectionRecord(\u001B[38;5;28mself\u001B[39m)\n",
      "File \u001B[1;32m~\\anaconda3\\Lib\\site-packages\\sqlalchemy\\pool\\base.py:371\u001B[0m, in \u001B[0;36m_ConnectionRecord.__init__\u001B[1;34m(self, pool, connect)\u001B[0m\n\u001B[0;32m    370\u001B[0m \u001B[38;5;28;01mif\u001B[39;00m connect:\n\u001B[1;32m--> 371\u001B[0m     \u001B[38;5;28mself\u001B[39m\u001B[38;5;241m.\u001B[39m__connect()\n\u001B[0;32m    372\u001B[0m \u001B[38;5;28mself\u001B[39m\u001B[38;5;241m.\u001B[39mfinalize_callback \u001B[38;5;241m=\u001B[39m deque()\n",
      "File \u001B[1;32m~\\anaconda3\\Lib\\site-packages\\sqlalchemy\\pool\\base.py:665\u001B[0m, in \u001B[0;36m_ConnectionRecord.__connect\u001B[1;34m(self)\u001B[0m\n\u001B[0;32m    664\u001B[0m \u001B[38;5;28;01mexcept\u001B[39;00m \u001B[38;5;167;01mException\u001B[39;00m \u001B[38;5;28;01mas\u001B[39;00m e:\n\u001B[1;32m--> 665\u001B[0m     \u001B[38;5;28;01mwith\u001B[39;00m util\u001B[38;5;241m.\u001B[39msafe_reraise():\n\u001B[0;32m    666\u001B[0m         pool\u001B[38;5;241m.\u001B[39mlogger\u001B[38;5;241m.\u001B[39mdebug(\u001B[38;5;124m\"\u001B[39m\u001B[38;5;124mError on connect(): \u001B[39m\u001B[38;5;132;01m%s\u001B[39;00m\u001B[38;5;124m\"\u001B[39m, e)\n",
      "File \u001B[1;32m~\\anaconda3\\Lib\\site-packages\\sqlalchemy\\util\\langhelpers.py:70\u001B[0m, in \u001B[0;36msafe_reraise.__exit__\u001B[1;34m(self, type_, value, traceback)\u001B[0m\n\u001B[0;32m     69\u001B[0m     \u001B[38;5;28;01mif\u001B[39;00m \u001B[38;5;129;01mnot\u001B[39;00m \u001B[38;5;28mself\u001B[39m\u001B[38;5;241m.\u001B[39mwarn_only:\n\u001B[1;32m---> 70\u001B[0m         compat\u001B[38;5;241m.\u001B[39mraise_(\n\u001B[0;32m     71\u001B[0m             exc_value,\n\u001B[0;32m     72\u001B[0m             with_traceback\u001B[38;5;241m=\u001B[39mexc_tb,\n\u001B[0;32m     73\u001B[0m         )\n\u001B[0;32m     74\u001B[0m \u001B[38;5;28;01melse\u001B[39;00m:\n",
      "File \u001B[1;32m~\\anaconda3\\Lib\\site-packages\\sqlalchemy\\util\\compat.py:208\u001B[0m, in \u001B[0;36mraise_\u001B[1;34m(***failed resolving arguments***)\u001B[0m\n\u001B[0;32m    207\u001B[0m \u001B[38;5;28;01mtry\u001B[39;00m:\n\u001B[1;32m--> 208\u001B[0m     \u001B[38;5;28;01mraise\u001B[39;00m exception\n\u001B[0;32m    209\u001B[0m \u001B[38;5;28;01mfinally\u001B[39;00m:\n\u001B[0;32m    210\u001B[0m     \u001B[38;5;66;03m# credit to\u001B[39;00m\n\u001B[0;32m    211\u001B[0m     \u001B[38;5;66;03m# https://cosmicpercolator.com/2016/01/13/exception-leaks-in-python-2-and-3/\u001B[39;00m\n\u001B[0;32m    212\u001B[0m     \u001B[38;5;66;03m# as the __traceback__ object creates a cycle\u001B[39;00m\n",
      "File \u001B[1;32m~\\anaconda3\\Lib\\site-packages\\sqlalchemy\\pool\\base.py:661\u001B[0m, in \u001B[0;36m_ConnectionRecord.__connect\u001B[1;34m(self)\u001B[0m\n\u001B[0;32m    660\u001B[0m \u001B[38;5;28mself\u001B[39m\u001B[38;5;241m.\u001B[39mstarttime \u001B[38;5;241m=\u001B[39m time\u001B[38;5;241m.\u001B[39mtime()\n\u001B[1;32m--> 661\u001B[0m \u001B[38;5;28mself\u001B[39m\u001B[38;5;241m.\u001B[39mdbapi_connection \u001B[38;5;241m=\u001B[39m connection \u001B[38;5;241m=\u001B[39m pool\u001B[38;5;241m.\u001B[39m_invoke_creator(\u001B[38;5;28mself\u001B[39m)\n\u001B[0;32m    662\u001B[0m pool\u001B[38;5;241m.\u001B[39mlogger\u001B[38;5;241m.\u001B[39mdebug(\u001B[38;5;124m\"\u001B[39m\u001B[38;5;124mCreated new connection \u001B[39m\u001B[38;5;132;01m%r\u001B[39;00m\u001B[38;5;124m\"\u001B[39m, connection)\n",
      "File \u001B[1;32m~\\anaconda3\\Lib\\site-packages\\sqlalchemy\\engine\\create.py:590\u001B[0m, in \u001B[0;36mcreate_engine.<locals>.connect\u001B[1;34m(connection_record)\u001B[0m\n\u001B[0;32m    589\u001B[0m             \u001B[38;5;28;01mreturn\u001B[39;00m connection\n\u001B[1;32m--> 590\u001B[0m \u001B[38;5;28;01mreturn\u001B[39;00m dialect\u001B[38;5;241m.\u001B[39mconnect(\u001B[38;5;241m*\u001B[39mcargs, \u001B[38;5;241m*\u001B[39m\u001B[38;5;241m*\u001B[39mcparams)\n",
      "File \u001B[1;32m~\\anaconda3\\Lib\\site-packages\\sqlalchemy\\engine\\default.py:597\u001B[0m, in \u001B[0;36mDefaultDialect.connect\u001B[1;34m(self, *cargs, **cparams)\u001B[0m\n\u001B[0;32m    595\u001B[0m \u001B[38;5;28;01mdef\u001B[39;00m \u001B[38;5;21mconnect\u001B[39m(\u001B[38;5;28mself\u001B[39m, \u001B[38;5;241m*\u001B[39mcargs, \u001B[38;5;241m*\u001B[39m\u001B[38;5;241m*\u001B[39mcparams):\n\u001B[0;32m    596\u001B[0m     \u001B[38;5;66;03m# inherits the docstring from interfaces.Dialect.connect\u001B[39;00m\n\u001B[1;32m--> 597\u001B[0m     \u001B[38;5;28;01mreturn\u001B[39;00m \u001B[38;5;28mself\u001B[39m\u001B[38;5;241m.\u001B[39mdbapi\u001B[38;5;241m.\u001B[39mconnect(\u001B[38;5;241m*\u001B[39mcargs, \u001B[38;5;241m*\u001B[39m\u001B[38;5;241m*\u001B[39mcparams)\n",
      "\u001B[1;31mOperationalError\u001B[0m: unable to open database file",
      "\nThe above exception was the direct cause of the following exception:\n",
      "\u001B[1;31mOperationalError\u001B[0m                          Traceback (most recent call last)",
      "Cell \u001B[1;32mIn[10], line 3\u001B[0m\n\u001B[0;32m      1\u001B[0m db_engine \u001B[38;5;241m=\u001B[39m SqlLiteEngine(db\u001B[38;5;241m=\u001B[39m\u001B[38;5;124m\"\u001B[39m\u001B[38;5;124mwikipedia\u001B[39m\u001B[38;5;124m\"\u001B[39m)\n\u001B[1;32m----> 3\u001B[0m random_forest()\n",
      "Cell \u001B[1;32mIn[9], line 19\u001B[0m, in \u001B[0;36mrandom_forest\u001B[1;34m()\u001B[0m\n\u001B[0;32m     17\u001B[0m session \u001B[38;5;241m=\u001B[39m SqlLiteEngine()\u001B[38;5;241m.\u001B[39mget_session()\n\u001B[0;32m     18\u001B[0m \u001B[38;5;28;01mwith\u001B[39;00m session \u001B[38;5;28;01mas\u001B[39;00m session:\n\u001B[1;32m---> 19\u001B[0m     result \u001B[38;5;241m=\u001B[39m session\u001B[38;5;241m.\u001B[39mexecute(\u001B[38;5;124m'\u001B[39m\u001B[38;5;124mSELECT * FROM page_visits\u001B[39m\u001B[38;5;124m'\u001B[39m)\n\u001B[0;32m     20\u001B[0m     df \u001B[38;5;241m=\u001B[39m pd\u001B[38;5;241m.\u001B[39mDataFrame(result)\n\u001B[0;32m     22\u001B[0m sample_pages \u001B[38;5;241m=\u001B[39m df[\u001B[38;5;124m'\u001B[39m\u001B[38;5;124mPage\u001B[39m\u001B[38;5;124m'\u001B[39m]\u001B[38;5;241m.\u001B[39mdrop_duplicates()\u001B[38;5;241m.\u001B[39msample(n\u001B[38;5;241m=\u001B[39m\u001B[38;5;241m5\u001B[39m, random_state\u001B[38;5;241m=\u001B[39m\u001B[38;5;241m1201\u001B[39m)\u001B[38;5;241m.\u001B[39mvalues\n",
      "File \u001B[1;32m~\\anaconda3\\Lib\\site-packages\\sqlalchemy\\orm\\session.py:1711\u001B[0m, in \u001B[0;36mSession.execute\u001B[1;34m(self, statement, params, execution_options, bind_arguments, _parent_execute_state, _add_event, **kw)\u001B[0m\n\u001B[0;32m   1707\u001B[0m     execution_options \u001B[38;5;241m=\u001B[39m execution_options\u001B[38;5;241m.\u001B[39munion(\n\u001B[0;32m   1708\u001B[0m         \u001B[38;5;28mdict\u001B[39m(future_result\u001B[38;5;241m=\u001B[39m\u001B[38;5;28;01mFalse\u001B[39;00m)\n\u001B[0;32m   1709\u001B[0m     )\n\u001B[0;32m   1710\u001B[0m \u001B[38;5;28;01melse\u001B[39;00m:\n\u001B[1;32m-> 1711\u001B[0m     conn \u001B[38;5;241m=\u001B[39m \u001B[38;5;28mself\u001B[39m\u001B[38;5;241m.\u001B[39m_connection_for_bind(bind)\n\u001B[0;32m   1712\u001B[0m result \u001B[38;5;241m=\u001B[39m conn\u001B[38;5;241m.\u001B[39m_execute_20(statement, params \u001B[38;5;129;01mor\u001B[39;00m {}, execution_options)\n\u001B[0;32m   1714\u001B[0m \u001B[38;5;28;01mif\u001B[39;00m compile_state_cls:\n",
      "File \u001B[1;32m~\\anaconda3\\Lib\\site-packages\\sqlalchemy\\orm\\session.py:1552\u001B[0m, in \u001B[0;36mSession._connection_for_bind\u001B[1;34m(self, engine, execution_options, **kw)\u001B[0m\n\u001B[0;32m   1549\u001B[0m TransactionalContext\u001B[38;5;241m.\u001B[39m_trans_ctx_check(\u001B[38;5;28mself\u001B[39m)\n\u001B[0;32m   1551\u001B[0m \u001B[38;5;28;01mif\u001B[39;00m \u001B[38;5;28mself\u001B[39m\u001B[38;5;241m.\u001B[39m_transaction \u001B[38;5;129;01mis\u001B[39;00m \u001B[38;5;129;01mnot\u001B[39;00m \u001B[38;5;28;01mNone\u001B[39;00m \u001B[38;5;129;01mor\u001B[39;00m \u001B[38;5;28mself\u001B[39m\u001B[38;5;241m.\u001B[39m_autobegin():\n\u001B[1;32m-> 1552\u001B[0m     \u001B[38;5;28;01mreturn\u001B[39;00m \u001B[38;5;28mself\u001B[39m\u001B[38;5;241m.\u001B[39m_transaction\u001B[38;5;241m.\u001B[39m_connection_for_bind(\n\u001B[0;32m   1553\u001B[0m         engine, execution_options\n\u001B[0;32m   1554\u001B[0m     )\n\u001B[0;32m   1556\u001B[0m \u001B[38;5;28;01massert\u001B[39;00m \u001B[38;5;28mself\u001B[39m\u001B[38;5;241m.\u001B[39m_transaction \u001B[38;5;129;01mis\u001B[39;00m \u001B[38;5;28;01mNone\u001B[39;00m\n\u001B[0;32m   1557\u001B[0m \u001B[38;5;28;01massert\u001B[39;00m \u001B[38;5;28mself\u001B[39m\u001B[38;5;241m.\u001B[39mautocommit\n",
      "File \u001B[1;32m~\\anaconda3\\Lib\\site-packages\\sqlalchemy\\orm\\session.py:747\u001B[0m, in \u001B[0;36mSessionTransaction._connection_for_bind\u001B[1;34m(self, bind, execution_options)\u001B[0m\n\u001B[0;32m    742\u001B[0m             \u001B[38;5;28;01mraise\u001B[39;00m sa_exc\u001B[38;5;241m.\u001B[39mInvalidRequestError(\n\u001B[0;32m    743\u001B[0m                 \u001B[38;5;124m\"\u001B[39m\u001B[38;5;124mSession already has a Connection associated for the \u001B[39m\u001B[38;5;124m\"\u001B[39m\n\u001B[0;32m    744\u001B[0m                 \u001B[38;5;124m\"\u001B[39m\u001B[38;5;124mgiven Connection\u001B[39m\u001B[38;5;124m'\u001B[39m\u001B[38;5;124ms Engine\u001B[39m\u001B[38;5;124m\"\u001B[39m\n\u001B[0;32m    745\u001B[0m             )\n\u001B[0;32m    746\u001B[0m     \u001B[38;5;28;01melse\u001B[39;00m:\n\u001B[1;32m--> 747\u001B[0m         conn \u001B[38;5;241m=\u001B[39m bind\u001B[38;5;241m.\u001B[39mconnect()\n\u001B[0;32m    748\u001B[0m         local_connect \u001B[38;5;241m=\u001B[39m \u001B[38;5;28;01mTrue\u001B[39;00m\n\u001B[0;32m    750\u001B[0m \u001B[38;5;28;01mtry\u001B[39;00m:\n",
      "File \u001B[1;32m~\\anaconda3\\Lib\\site-packages\\sqlalchemy\\engine\\base.py:3234\u001B[0m, in \u001B[0;36mEngine.connect\u001B[1;34m(self, close_with_result)\u001B[0m\n\u001B[0;32m   3219\u001B[0m \u001B[38;5;28;01mdef\u001B[39;00m \u001B[38;5;21mconnect\u001B[39m(\u001B[38;5;28mself\u001B[39m, close_with_result\u001B[38;5;241m=\u001B[39m\u001B[38;5;28;01mFalse\u001B[39;00m):\n\u001B[0;32m   3220\u001B[0m \u001B[38;5;250m    \u001B[39m\u001B[38;5;124;03m\"\"\"Return a new :class:`_engine.Connection` object.\u001B[39;00m\n\u001B[0;32m   3221\u001B[0m \n\u001B[0;32m   3222\u001B[0m \u001B[38;5;124;03m    The :class:`_engine.Connection` object is a facade that uses a DBAPI\u001B[39;00m\n\u001B[1;32m   (...)\u001B[0m\n\u001B[0;32m   3231\u001B[0m \n\u001B[0;32m   3232\u001B[0m \u001B[38;5;124;03m    \"\"\"\u001B[39;00m\n\u001B[1;32m-> 3234\u001B[0m     \u001B[38;5;28;01mreturn\u001B[39;00m \u001B[38;5;28mself\u001B[39m\u001B[38;5;241m.\u001B[39m_connection_cls(\u001B[38;5;28mself\u001B[39m, close_with_result\u001B[38;5;241m=\u001B[39mclose_with_result)\n",
      "File \u001B[1;32m~\\anaconda3\\Lib\\site-packages\\sqlalchemy\\engine\\base.py:96\u001B[0m, in \u001B[0;36mConnection.__init__\u001B[1;34m(self, engine, connection, close_with_result, _branch_from, _execution_options, _dispatch, _has_events, _allow_revalidate)\u001B[0m\n\u001B[0;32m     91\u001B[0m     \u001B[38;5;28mself\u001B[39m\u001B[38;5;241m.\u001B[39m_has_events \u001B[38;5;241m=\u001B[39m _branch_from\u001B[38;5;241m.\u001B[39m_has_events\n\u001B[0;32m     92\u001B[0m \u001B[38;5;28;01melse\u001B[39;00m:\n\u001B[0;32m     93\u001B[0m     \u001B[38;5;28mself\u001B[39m\u001B[38;5;241m.\u001B[39m_dbapi_connection \u001B[38;5;241m=\u001B[39m (\n\u001B[0;32m     94\u001B[0m         connection\n\u001B[0;32m     95\u001B[0m         \u001B[38;5;28;01mif\u001B[39;00m connection \u001B[38;5;129;01mis\u001B[39;00m \u001B[38;5;129;01mnot\u001B[39;00m \u001B[38;5;28;01mNone\u001B[39;00m\n\u001B[1;32m---> 96\u001B[0m         \u001B[38;5;28;01melse\u001B[39;00m engine\u001B[38;5;241m.\u001B[39mraw_connection()\n\u001B[0;32m     97\u001B[0m     )\n\u001B[0;32m     99\u001B[0m     \u001B[38;5;28mself\u001B[39m\u001B[38;5;241m.\u001B[39m_transaction \u001B[38;5;241m=\u001B[39m \u001B[38;5;28mself\u001B[39m\u001B[38;5;241m.\u001B[39m_nested_transaction \u001B[38;5;241m=\u001B[39m \u001B[38;5;28;01mNone\u001B[39;00m\n\u001B[0;32m    100\u001B[0m     \u001B[38;5;28mself\u001B[39m\u001B[38;5;241m.\u001B[39m__savepoint_seq \u001B[38;5;241m=\u001B[39m \u001B[38;5;241m0\u001B[39m\n",
      "File \u001B[1;32m~\\anaconda3\\Lib\\site-packages\\sqlalchemy\\engine\\base.py:3313\u001B[0m, in \u001B[0;36mEngine.raw_connection\u001B[1;34m(self, _connection)\u001B[0m\n\u001B[0;32m   3291\u001B[0m \u001B[38;5;28;01mdef\u001B[39;00m \u001B[38;5;21mraw_connection\u001B[39m(\u001B[38;5;28mself\u001B[39m, _connection\u001B[38;5;241m=\u001B[39m\u001B[38;5;28;01mNone\u001B[39;00m):\n\u001B[0;32m   3292\u001B[0m \u001B[38;5;250m    \u001B[39m\u001B[38;5;124;03m\"\"\"Return a \"raw\" DBAPI connection from the connection pool.\u001B[39;00m\n\u001B[0;32m   3293\u001B[0m \n\u001B[0;32m   3294\u001B[0m \u001B[38;5;124;03m    The returned object is a proxied version of the DBAPI\u001B[39;00m\n\u001B[1;32m   (...)\u001B[0m\n\u001B[0;32m   3311\u001B[0m \n\u001B[0;32m   3312\u001B[0m \u001B[38;5;124;03m    \"\"\"\u001B[39;00m\n\u001B[1;32m-> 3313\u001B[0m     \u001B[38;5;28;01mreturn\u001B[39;00m \u001B[38;5;28mself\u001B[39m\u001B[38;5;241m.\u001B[39m_wrap_pool_connect(\u001B[38;5;28mself\u001B[39m\u001B[38;5;241m.\u001B[39mpool\u001B[38;5;241m.\u001B[39mconnect, _connection)\n",
      "File \u001B[1;32m~\\anaconda3\\Lib\\site-packages\\sqlalchemy\\engine\\base.py:3283\u001B[0m, in \u001B[0;36mEngine._wrap_pool_connect\u001B[1;34m(self, fn, connection)\u001B[0m\n\u001B[0;32m   3281\u001B[0m \u001B[38;5;28;01mexcept\u001B[39;00m dialect\u001B[38;5;241m.\u001B[39mdbapi\u001B[38;5;241m.\u001B[39mError \u001B[38;5;28;01mas\u001B[39;00m e:\n\u001B[0;32m   3282\u001B[0m     \u001B[38;5;28;01mif\u001B[39;00m connection \u001B[38;5;129;01mis\u001B[39;00m \u001B[38;5;28;01mNone\u001B[39;00m:\n\u001B[1;32m-> 3283\u001B[0m         Connection\u001B[38;5;241m.\u001B[39m_handle_dbapi_exception_noconnection(\n\u001B[0;32m   3284\u001B[0m             e, dialect, \u001B[38;5;28mself\u001B[39m\n\u001B[0;32m   3285\u001B[0m         )\n\u001B[0;32m   3286\u001B[0m     \u001B[38;5;28;01melse\u001B[39;00m:\n\u001B[0;32m   3287\u001B[0m         util\u001B[38;5;241m.\u001B[39mraise_(\n\u001B[0;32m   3288\u001B[0m             sys\u001B[38;5;241m.\u001B[39mexc_info()[\u001B[38;5;241m1\u001B[39m], with_traceback\u001B[38;5;241m=\u001B[39msys\u001B[38;5;241m.\u001B[39mexc_info()[\u001B[38;5;241m2\u001B[39m]\n\u001B[0;32m   3289\u001B[0m         )\n",
      "File \u001B[1;32m~\\anaconda3\\Lib\\site-packages\\sqlalchemy\\engine\\base.py:2117\u001B[0m, in \u001B[0;36mConnection._handle_dbapi_exception_noconnection\u001B[1;34m(cls, e, dialect, engine)\u001B[0m\n\u001B[0;32m   2115\u001B[0m     util\u001B[38;5;241m.\u001B[39mraise_(newraise, with_traceback\u001B[38;5;241m=\u001B[39mexc_info[\u001B[38;5;241m2\u001B[39m], from_\u001B[38;5;241m=\u001B[39me)\n\u001B[0;32m   2116\u001B[0m \u001B[38;5;28;01melif\u001B[39;00m should_wrap:\n\u001B[1;32m-> 2117\u001B[0m     util\u001B[38;5;241m.\u001B[39mraise_(\n\u001B[0;32m   2118\u001B[0m         sqlalchemy_exception, with_traceback\u001B[38;5;241m=\u001B[39mexc_info[\u001B[38;5;241m2\u001B[39m], from_\u001B[38;5;241m=\u001B[39me\n\u001B[0;32m   2119\u001B[0m     )\n\u001B[0;32m   2120\u001B[0m \u001B[38;5;28;01melse\u001B[39;00m:\n\u001B[0;32m   2121\u001B[0m     util\u001B[38;5;241m.\u001B[39mraise_(exc_info[\u001B[38;5;241m1\u001B[39m], with_traceback\u001B[38;5;241m=\u001B[39mexc_info[\u001B[38;5;241m2\u001B[39m])\n",
      "File \u001B[1;32m~\\anaconda3\\Lib\\site-packages\\sqlalchemy\\util\\compat.py:208\u001B[0m, in \u001B[0;36mraise_\u001B[1;34m(***failed resolving arguments***)\u001B[0m\n\u001B[0;32m    205\u001B[0m     exception\u001B[38;5;241m.\u001B[39m__cause__ \u001B[38;5;241m=\u001B[39m replace_context\n\u001B[0;32m    207\u001B[0m \u001B[38;5;28;01mtry\u001B[39;00m:\n\u001B[1;32m--> 208\u001B[0m     \u001B[38;5;28;01mraise\u001B[39;00m exception\n\u001B[0;32m    209\u001B[0m \u001B[38;5;28;01mfinally\u001B[39;00m:\n\u001B[0;32m    210\u001B[0m     \u001B[38;5;66;03m# credit to\u001B[39;00m\n\u001B[0;32m    211\u001B[0m     \u001B[38;5;66;03m# https://cosmicpercolator.com/2016/01/13/exception-leaks-in-python-2-and-3/\u001B[39;00m\n\u001B[0;32m    212\u001B[0m     \u001B[38;5;66;03m# as the __traceback__ object creates a cycle\u001B[39;00m\n\u001B[0;32m    213\u001B[0m     \u001B[38;5;28;01mdel\u001B[39;00m exception, replace_context, from_, with_traceback\n",
      "File \u001B[1;32m~\\anaconda3\\Lib\\site-packages\\sqlalchemy\\engine\\base.py:3280\u001B[0m, in \u001B[0;36mEngine._wrap_pool_connect\u001B[1;34m(self, fn, connection)\u001B[0m\n\u001B[0;32m   3278\u001B[0m dialect \u001B[38;5;241m=\u001B[39m \u001B[38;5;28mself\u001B[39m\u001B[38;5;241m.\u001B[39mdialect\n\u001B[0;32m   3279\u001B[0m \u001B[38;5;28;01mtry\u001B[39;00m:\n\u001B[1;32m-> 3280\u001B[0m     \u001B[38;5;28;01mreturn\u001B[39;00m fn()\n\u001B[0;32m   3281\u001B[0m \u001B[38;5;28;01mexcept\u001B[39;00m dialect\u001B[38;5;241m.\u001B[39mdbapi\u001B[38;5;241m.\u001B[39mError \u001B[38;5;28;01mas\u001B[39;00m e:\n\u001B[0;32m   3282\u001B[0m     \u001B[38;5;28;01mif\u001B[39;00m connection \u001B[38;5;129;01mis\u001B[39;00m \u001B[38;5;28;01mNone\u001B[39;00m:\n",
      "File \u001B[1;32m~\\anaconda3\\Lib\\site-packages\\sqlalchemy\\pool\\base.py:310\u001B[0m, in \u001B[0;36mPool.connect\u001B[1;34m(self)\u001B[0m\n\u001B[0;32m    302\u001B[0m \u001B[38;5;28;01mdef\u001B[39;00m \u001B[38;5;21mconnect\u001B[39m(\u001B[38;5;28mself\u001B[39m):\n\u001B[0;32m    303\u001B[0m \u001B[38;5;250m    \u001B[39m\u001B[38;5;124;03m\"\"\"Return a DBAPI connection from the pool.\u001B[39;00m\n\u001B[0;32m    304\u001B[0m \n\u001B[0;32m    305\u001B[0m \u001B[38;5;124;03m    The connection is instrumented such that when its\u001B[39;00m\n\u001B[1;32m   (...)\u001B[0m\n\u001B[0;32m    308\u001B[0m \n\u001B[0;32m    309\u001B[0m \u001B[38;5;124;03m    \"\"\"\u001B[39;00m\n\u001B[1;32m--> 310\u001B[0m     \u001B[38;5;28;01mreturn\u001B[39;00m _ConnectionFairy\u001B[38;5;241m.\u001B[39m_checkout(\u001B[38;5;28mself\u001B[39m)\n",
      "File \u001B[1;32m~\\anaconda3\\Lib\\site-packages\\sqlalchemy\\pool\\base.py:868\u001B[0m, in \u001B[0;36m_ConnectionFairy._checkout\u001B[1;34m(cls, pool, threadconns, fairy)\u001B[0m\n\u001B[0;32m    865\u001B[0m \u001B[38;5;129m@classmethod\u001B[39m\n\u001B[0;32m    866\u001B[0m \u001B[38;5;28;01mdef\u001B[39;00m \u001B[38;5;21m_checkout\u001B[39m(\u001B[38;5;28mcls\u001B[39m, pool, threadconns\u001B[38;5;241m=\u001B[39m\u001B[38;5;28;01mNone\u001B[39;00m, fairy\u001B[38;5;241m=\u001B[39m\u001B[38;5;28;01mNone\u001B[39;00m):\n\u001B[0;32m    867\u001B[0m     \u001B[38;5;28;01mif\u001B[39;00m \u001B[38;5;129;01mnot\u001B[39;00m fairy:\n\u001B[1;32m--> 868\u001B[0m         fairy \u001B[38;5;241m=\u001B[39m _ConnectionRecord\u001B[38;5;241m.\u001B[39mcheckout(pool)\n\u001B[0;32m    870\u001B[0m         fairy\u001B[38;5;241m.\u001B[39m_pool \u001B[38;5;241m=\u001B[39m pool\n\u001B[0;32m    871\u001B[0m         fairy\u001B[38;5;241m.\u001B[39m_counter \u001B[38;5;241m=\u001B[39m \u001B[38;5;241m0\u001B[39m\n",
      "File \u001B[1;32m~\\anaconda3\\Lib\\site-packages\\sqlalchemy\\pool\\base.py:476\u001B[0m, in \u001B[0;36m_ConnectionRecord.checkout\u001B[1;34m(cls, pool)\u001B[0m\n\u001B[0;32m    474\u001B[0m \u001B[38;5;129m@classmethod\u001B[39m\n\u001B[0;32m    475\u001B[0m \u001B[38;5;28;01mdef\u001B[39;00m \u001B[38;5;21mcheckout\u001B[39m(\u001B[38;5;28mcls\u001B[39m, pool):\n\u001B[1;32m--> 476\u001B[0m     rec \u001B[38;5;241m=\u001B[39m pool\u001B[38;5;241m.\u001B[39m_do_get()\n\u001B[0;32m    477\u001B[0m     \u001B[38;5;28;01mtry\u001B[39;00m:\n\u001B[0;32m    478\u001B[0m         dbapi_connection \u001B[38;5;241m=\u001B[39m rec\u001B[38;5;241m.\u001B[39mget_connection()\n",
      "File \u001B[1;32m~\\anaconda3\\Lib\\site-packages\\sqlalchemy\\pool\\impl.py:256\u001B[0m, in \u001B[0;36mNullPool._do_get\u001B[1;34m(self)\u001B[0m\n\u001B[0;32m    255\u001B[0m \u001B[38;5;28;01mdef\u001B[39;00m \u001B[38;5;21m_do_get\u001B[39m(\u001B[38;5;28mself\u001B[39m):\n\u001B[1;32m--> 256\u001B[0m     \u001B[38;5;28;01mreturn\u001B[39;00m \u001B[38;5;28mself\u001B[39m\u001B[38;5;241m.\u001B[39m_create_connection()\n",
      "File \u001B[1;32m~\\anaconda3\\Lib\\site-packages\\sqlalchemy\\pool\\base.py:256\u001B[0m, in \u001B[0;36mPool._create_connection\u001B[1;34m(self)\u001B[0m\n\u001B[0;32m    253\u001B[0m \u001B[38;5;28;01mdef\u001B[39;00m \u001B[38;5;21m_create_connection\u001B[39m(\u001B[38;5;28mself\u001B[39m):\n\u001B[0;32m    254\u001B[0m \u001B[38;5;250m    \u001B[39m\u001B[38;5;124;03m\"\"\"Called by subclasses to create a new ConnectionRecord.\"\"\"\u001B[39;00m\n\u001B[1;32m--> 256\u001B[0m     \u001B[38;5;28;01mreturn\u001B[39;00m _ConnectionRecord(\u001B[38;5;28mself\u001B[39m)\n",
      "File \u001B[1;32m~\\anaconda3\\Lib\\site-packages\\sqlalchemy\\pool\\base.py:371\u001B[0m, in \u001B[0;36m_ConnectionRecord.__init__\u001B[1;34m(self, pool, connect)\u001B[0m\n\u001B[0;32m    369\u001B[0m \u001B[38;5;28mself\u001B[39m\u001B[38;5;241m.\u001B[39m__pool \u001B[38;5;241m=\u001B[39m pool\n\u001B[0;32m    370\u001B[0m \u001B[38;5;28;01mif\u001B[39;00m connect:\n\u001B[1;32m--> 371\u001B[0m     \u001B[38;5;28mself\u001B[39m\u001B[38;5;241m.\u001B[39m__connect()\n\u001B[0;32m    372\u001B[0m \u001B[38;5;28mself\u001B[39m\u001B[38;5;241m.\u001B[39mfinalize_callback \u001B[38;5;241m=\u001B[39m deque()\n",
      "File \u001B[1;32m~\\anaconda3\\Lib\\site-packages\\sqlalchemy\\pool\\base.py:665\u001B[0m, in \u001B[0;36m_ConnectionRecord.__connect\u001B[1;34m(self)\u001B[0m\n\u001B[0;32m    663\u001B[0m     \u001B[38;5;28mself\u001B[39m\u001B[38;5;241m.\u001B[39mfresh \u001B[38;5;241m=\u001B[39m \u001B[38;5;28;01mTrue\u001B[39;00m\n\u001B[0;32m    664\u001B[0m \u001B[38;5;28;01mexcept\u001B[39;00m \u001B[38;5;167;01mException\u001B[39;00m \u001B[38;5;28;01mas\u001B[39;00m e:\n\u001B[1;32m--> 665\u001B[0m     \u001B[38;5;28;01mwith\u001B[39;00m util\u001B[38;5;241m.\u001B[39msafe_reraise():\n\u001B[0;32m    666\u001B[0m         pool\u001B[38;5;241m.\u001B[39mlogger\u001B[38;5;241m.\u001B[39mdebug(\u001B[38;5;124m\"\u001B[39m\u001B[38;5;124mError on connect(): \u001B[39m\u001B[38;5;132;01m%s\u001B[39;00m\u001B[38;5;124m\"\u001B[39m, e)\n\u001B[0;32m    667\u001B[0m \u001B[38;5;28;01melse\u001B[39;00m:\n\u001B[0;32m    668\u001B[0m     \u001B[38;5;66;03m# in SQLAlchemy 1.4 the first_connect event is not used by\u001B[39;00m\n\u001B[0;32m    669\u001B[0m     \u001B[38;5;66;03m# the engine, so this will usually not be set\u001B[39;00m\n",
      "File \u001B[1;32m~\\anaconda3\\Lib\\site-packages\\sqlalchemy\\util\\langhelpers.py:70\u001B[0m, in \u001B[0;36msafe_reraise.__exit__\u001B[1;34m(self, type_, value, traceback)\u001B[0m\n\u001B[0;32m     68\u001B[0m     \u001B[38;5;28mself\u001B[39m\u001B[38;5;241m.\u001B[39m_exc_info \u001B[38;5;241m=\u001B[39m \u001B[38;5;28;01mNone\u001B[39;00m  \u001B[38;5;66;03m# remove potential circular references\u001B[39;00m\n\u001B[0;32m     69\u001B[0m     \u001B[38;5;28;01mif\u001B[39;00m \u001B[38;5;129;01mnot\u001B[39;00m \u001B[38;5;28mself\u001B[39m\u001B[38;5;241m.\u001B[39mwarn_only:\n\u001B[1;32m---> 70\u001B[0m         compat\u001B[38;5;241m.\u001B[39mraise_(\n\u001B[0;32m     71\u001B[0m             exc_value,\n\u001B[0;32m     72\u001B[0m             with_traceback\u001B[38;5;241m=\u001B[39mexc_tb,\n\u001B[0;32m     73\u001B[0m         )\n\u001B[0;32m     74\u001B[0m \u001B[38;5;28;01melse\u001B[39;00m:\n\u001B[0;32m     75\u001B[0m     \u001B[38;5;28;01mif\u001B[39;00m \u001B[38;5;129;01mnot\u001B[39;00m compat\u001B[38;5;241m.\u001B[39mpy3k \u001B[38;5;129;01mand\u001B[39;00m \u001B[38;5;28mself\u001B[39m\u001B[38;5;241m.\u001B[39m_exc_info \u001B[38;5;129;01mand\u001B[39;00m \u001B[38;5;28mself\u001B[39m\u001B[38;5;241m.\u001B[39m_exc_info[\u001B[38;5;241m1\u001B[39m]:\n\u001B[0;32m     76\u001B[0m         \u001B[38;5;66;03m# emulate Py3K's behavior of telling us when an exception\u001B[39;00m\n\u001B[0;32m     77\u001B[0m         \u001B[38;5;66;03m# occurs in an exception handler.\u001B[39;00m\n",
      "File \u001B[1;32m~\\anaconda3\\Lib\\site-packages\\sqlalchemy\\util\\compat.py:208\u001B[0m, in \u001B[0;36mraise_\u001B[1;34m(***failed resolving arguments***)\u001B[0m\n\u001B[0;32m    205\u001B[0m     exception\u001B[38;5;241m.\u001B[39m__cause__ \u001B[38;5;241m=\u001B[39m replace_context\n\u001B[0;32m    207\u001B[0m \u001B[38;5;28;01mtry\u001B[39;00m:\n\u001B[1;32m--> 208\u001B[0m     \u001B[38;5;28;01mraise\u001B[39;00m exception\n\u001B[0;32m    209\u001B[0m \u001B[38;5;28;01mfinally\u001B[39;00m:\n\u001B[0;32m    210\u001B[0m     \u001B[38;5;66;03m# credit to\u001B[39;00m\n\u001B[0;32m    211\u001B[0m     \u001B[38;5;66;03m# https://cosmicpercolator.com/2016/01/13/exception-leaks-in-python-2-and-3/\u001B[39;00m\n\u001B[0;32m    212\u001B[0m     \u001B[38;5;66;03m# as the __traceback__ object creates a cycle\u001B[39;00m\n\u001B[0;32m    213\u001B[0m     \u001B[38;5;28;01mdel\u001B[39;00m exception, replace_context, from_, with_traceback\n",
      "File \u001B[1;32m~\\anaconda3\\Lib\\site-packages\\sqlalchemy\\pool\\base.py:661\u001B[0m, in \u001B[0;36m_ConnectionRecord.__connect\u001B[1;34m(self)\u001B[0m\n\u001B[0;32m    659\u001B[0m \u001B[38;5;28;01mtry\u001B[39;00m:\n\u001B[0;32m    660\u001B[0m     \u001B[38;5;28mself\u001B[39m\u001B[38;5;241m.\u001B[39mstarttime \u001B[38;5;241m=\u001B[39m time\u001B[38;5;241m.\u001B[39mtime()\n\u001B[1;32m--> 661\u001B[0m     \u001B[38;5;28mself\u001B[39m\u001B[38;5;241m.\u001B[39mdbapi_connection \u001B[38;5;241m=\u001B[39m connection \u001B[38;5;241m=\u001B[39m pool\u001B[38;5;241m.\u001B[39m_invoke_creator(\u001B[38;5;28mself\u001B[39m)\n\u001B[0;32m    662\u001B[0m     pool\u001B[38;5;241m.\u001B[39mlogger\u001B[38;5;241m.\u001B[39mdebug(\u001B[38;5;124m\"\u001B[39m\u001B[38;5;124mCreated new connection \u001B[39m\u001B[38;5;132;01m%r\u001B[39;00m\u001B[38;5;124m\"\u001B[39m, connection)\n\u001B[0;32m    663\u001B[0m     \u001B[38;5;28mself\u001B[39m\u001B[38;5;241m.\u001B[39mfresh \u001B[38;5;241m=\u001B[39m \u001B[38;5;28;01mTrue\u001B[39;00m\n",
      "File \u001B[1;32m~\\anaconda3\\Lib\\site-packages\\sqlalchemy\\engine\\create.py:590\u001B[0m, in \u001B[0;36mcreate_engine.<locals>.connect\u001B[1;34m(connection_record)\u001B[0m\n\u001B[0;32m    588\u001B[0m         \u001B[38;5;28;01mif\u001B[39;00m connection \u001B[38;5;129;01mis\u001B[39;00m \u001B[38;5;129;01mnot\u001B[39;00m \u001B[38;5;28;01mNone\u001B[39;00m:\n\u001B[0;32m    589\u001B[0m             \u001B[38;5;28;01mreturn\u001B[39;00m connection\n\u001B[1;32m--> 590\u001B[0m \u001B[38;5;28;01mreturn\u001B[39;00m dialect\u001B[38;5;241m.\u001B[39mconnect(\u001B[38;5;241m*\u001B[39mcargs, \u001B[38;5;241m*\u001B[39m\u001B[38;5;241m*\u001B[39mcparams)\n",
      "File \u001B[1;32m~\\anaconda3\\Lib\\site-packages\\sqlalchemy\\engine\\default.py:597\u001B[0m, in \u001B[0;36mDefaultDialect.connect\u001B[1;34m(self, *cargs, **cparams)\u001B[0m\n\u001B[0;32m    595\u001B[0m \u001B[38;5;28;01mdef\u001B[39;00m \u001B[38;5;21mconnect\u001B[39m(\u001B[38;5;28mself\u001B[39m, \u001B[38;5;241m*\u001B[39mcargs, \u001B[38;5;241m*\u001B[39m\u001B[38;5;241m*\u001B[39mcparams):\n\u001B[0;32m    596\u001B[0m     \u001B[38;5;66;03m# inherits the docstring from interfaces.Dialect.connect\u001B[39;00m\n\u001B[1;32m--> 597\u001B[0m     \u001B[38;5;28;01mreturn\u001B[39;00m \u001B[38;5;28mself\u001B[39m\u001B[38;5;241m.\u001B[39mdbapi\u001B[38;5;241m.\u001B[39mconnect(\u001B[38;5;241m*\u001B[39mcargs, \u001B[38;5;241m*\u001B[39m\u001B[38;5;241m*\u001B[39mcparams)\n",
      "\u001B[1;31mOperationalError\u001B[0m: (sqlite3.OperationalError) unable to open database file\n(Background on this error at: https://sqlalche.me/e/14/e3q8)"
     ]
    }
   ],
   "source": [
    "db_engine = SqlLiteEngine(db=\"wikipedia\")\n",
    "\n",
    "random_forest()"
   ],
   "metadata": {
    "collapsed": false,
    "ExecuteTime": {
     "end_time": "2024-03-20T21:22:44.228689300Z",
     "start_time": "2024-03-20T21:22:43.994528300Z"
    }
   },
   "id": "1bd1015501d0dcbf"
  },
  {
   "cell_type": "code",
   "execution_count": null,
   "outputs": [],
   "source": [],
   "metadata": {
    "collapsed": false,
    "ExecuteTime": {
     "end_time": "2024-03-20T21:21:06.906803500Z",
     "start_time": "2024-03-20T21:21:06.904254900Z"
    }
   },
   "id": "7a59ad381f79848e"
  }
 ],
 "metadata": {
  "kernelspec": {
   "display_name": "Python 3",
   "language": "python",
   "name": "python3"
  },
  "language_info": {
   "codemirror_mode": {
    "name": "ipython",
    "version": 2
   },
   "file_extension": ".py",
   "mimetype": "text/x-python",
   "name": "python",
   "nbconvert_exporter": "python",
   "pygments_lexer": "ipython2",
   "version": "2.7.6"
  }
 },
 "nbformat": 4,
 "nbformat_minor": 5
}
